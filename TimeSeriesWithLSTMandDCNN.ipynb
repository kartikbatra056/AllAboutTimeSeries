{
  "nbformat": 4,
  "nbformat_minor": 0,
  "metadata": {
    "colab": {
      "name": "TimeSeriesWithLSTMandDCNN.ipynb",
      "provenance": [],
      "collapsed_sections": [],
      "authorship_tag": "ABX9TyO274U2zQxyHpmbHiqwvYaV",
      "include_colab_link": true
    },
    "kernelspec": {
      "name": "python3",
      "display_name": "Python 3"
    }
  },
  "cells": [
    {
      "cell_type": "markdown",
      "metadata": {
        "id": "view-in-github",
        "colab_type": "text"
      },
      "source": [
        "<a href=\"https://colab.research.google.com/github/kartikbatra056/AllAboutTimeSeries/blob/main/TimeSeriesWithLSTMandDCNN.ipynb\" target=\"_parent\"><img src=\"https://colab.research.google.com/assets/colab-badge.svg\" alt=\"Open In Colab\"/></a>"
      ]
    },
    {
      "cell_type": "markdown",
      "metadata": {
        "id": "qV20yWlSvMop"
      },
      "source": [
        "# Get Dataset from kaggle"
      ]
    },
    {
      "cell_type": "code",
      "metadata": {
        "id": "0iC0NxW1vK-B"
      },
      "source": [
        "! pip install -q kaggle"
      ],
      "execution_count": null,
      "outputs": []
    },
    {
      "cell_type": "code",
      "metadata": {
        "id": "SZiWlaD5vQZK",
        "outputId": "1727b668-484b-40f4-93db-ca1a669f4cac",
        "colab": {
          "resources": {
            "http://localhost:8080/nbextensions/google.colab/files.js": {
              "data": "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",
              "ok": true,
              "headers": [
                [
                  "content-type",
                  "application/javascript"
                ]
              ],
              "status": 200,
              "status_text": ""
            }
          },
          "base_uri": "https://localhost:8080/",
          "height": 38
        }
      },
      "source": [
        "from google.colab import files\n",
        "uploaded=files.upload()"
      ],
      "execution_count": null,
      "outputs": [
        {
          "output_type": "display_data",
          "data": {
            "text/html": [
              "\n",
              "     <input type=\"file\" id=\"files-b1648468-1938-4afe-a68d-2edac29d6c02\" name=\"files[]\" multiple disabled\n",
              "        style=\"border:none\" />\n",
              "     <output id=\"result-b1648468-1938-4afe-a68d-2edac29d6c02\">\n",
              "      Upload widget is only available when the cell has been executed in the\n",
              "      current browser session. Please rerun this cell to enable.\n",
              "      </output>\n",
              "      <script src=\"/nbextensions/google.colab/files.js\"></script> "
            ],
            "text/plain": [
              "<IPython.core.display.HTML object>"
            ]
          },
          "metadata": {
            "tags": []
          }
        }
      ]
    },
    {
      "cell_type": "code",
      "metadata": {
        "id": "jINwXWmJvV4o"
      },
      "source": [
        "! mkdir ~/.kaggle\n",
        "! cp kaggle.json ~/.kaggle/\n",
        "! chmod 600 ~/.kaggle/kaggle.json"
      ],
      "execution_count": null,
      "outputs": []
    },
    {
      "cell_type": "code",
      "metadata": {
        "id": "XD1miM2_vWVl",
        "outputId": "ad50caed-8f4e-4323-baf9-ce2fb3d95e4c",
        "colab": {
          "base_uri": "https://localhost:8080/"
        }
      },
      "source": [
        "! kaggle datasets download -d 'rohanrao/nifty50-stock-market-data'"
      ],
      "execution_count": null,
      "outputs": [
        {
          "output_type": "stream",
          "text": [
            "Downloading nifty50-stock-market-data.zip to /content\n",
            " 50% 9.00M/18.0M [00:00<00:00, 35.1MB/s]\n",
            "100% 18.0M/18.0M [00:00<00:00, 51.8MB/s]\n"
          ],
          "name": "stdout"
        }
      ]
    },
    {
      "cell_type": "code",
      "metadata": {
        "id": "seLNwJN9vcer",
        "outputId": "58b33933-9c71-4951-fbce-9aefb5287ddf",
        "colab": {
          "base_uri": "https://localhost:8080/"
        }
      },
      "source": [
        "!unzip '/content/nifty50-stock-market-data.zip'"
      ],
      "execution_count": null,
      "outputs": [
        {
          "output_type": "stream",
          "text": [
            "Archive:  /content/nifty50-stock-market-data.zip\n",
            "  inflating: ADANIPORTS.csv          \n",
            "  inflating: ASIANPAINT.csv          \n",
            "  inflating: AXISBANK.csv            \n",
            "  inflating: BAJAJ-AUTO.csv          \n",
            "  inflating: BAJAJFINSV.csv          \n",
            "  inflating: BAJFINANCE.csv          \n",
            "  inflating: BHARTIARTL.csv          \n",
            "  inflating: BPCL.csv                \n",
            "  inflating: BRITANNIA.csv           \n",
            "  inflating: CIPLA.csv               \n",
            "  inflating: COALINDIA.csv           \n",
            "  inflating: DRREDDY.csv             \n",
            "  inflating: EICHERMOT.csv           \n",
            "  inflating: GAIL.csv                \n",
            "  inflating: GRASIM.csv              \n",
            "  inflating: HCLTECH.csv             \n",
            "  inflating: HDFC.csv                \n",
            "  inflating: HDFCBANK.csv            \n",
            "  inflating: HEROMOTOCO.csv          \n",
            "  inflating: HINDALCO.csv            \n",
            "  inflating: HINDUNILVR.csv          \n",
            "  inflating: ICICIBANK.csv           \n",
            "  inflating: INDUSINDBK.csv          \n",
            "  inflating: INFRATEL.csv            \n",
            "  inflating: INFY.csv                \n",
            "  inflating: IOC.csv                 \n",
            "  inflating: ITC.csv                 \n",
            "  inflating: JSWSTEEL.csv            \n",
            "  inflating: KOTAKBANK.csv           \n",
            "  inflating: LT.csv                  \n",
            "  inflating: MARUTI.csv              \n",
            "  inflating: MM.csv                  \n",
            "  inflating: NESTLEIND.csv           \n",
            "  inflating: NIFTY50_all.csv         \n",
            "  inflating: NTPC.csv                \n",
            "  inflating: ONGC.csv                \n",
            "  inflating: POWERGRID.csv           \n",
            "  inflating: RELIANCE.csv            \n",
            "  inflating: SBIN.csv                \n",
            "  inflating: SHREECEM.csv            \n",
            "  inflating: SUNPHARMA.csv           \n",
            "  inflating: TATAMOTORS.csv          \n",
            "  inflating: TATASTEEL.csv           \n",
            "  inflating: TCS.csv                 \n",
            "  inflating: TECHM.csv               \n",
            "  inflating: TITAN.csv               \n",
            "  inflating: ULTRACEMCO.csv          \n",
            "  inflating: UPL.csv                 \n",
            "  inflating: VEDL.csv                \n",
            "  inflating: WIPRO.csv               \n",
            "  inflating: ZEEL.csv                \n",
            "  inflating: stock_metadata.csv      \n"
          ],
          "name": "stdout"
        }
      ]
    },
    {
      "cell_type": "code",
      "metadata": {
        "id": "hIogXeg6vfgP"
      },
      "source": [
        "# importing libraries\n",
        "import pandas as pd\n",
        "import numpy as np\n",
        "import matplotlib.pyplot as plt\n",
        "import seaborn as sns\n",
        "import torch\n",
        "import torch.nn as nn\n",
        "import torch.optim as optim\n",
        "from torch.utils.data import Dataset,DataLoader\n",
        "from sklearn.preprocessing import MinMaxScaler\n",
        "from sklearn.model_selection import train_test_split\n",
        "from sklearn.metrics import mean_absolute_error\n",
        "plt.style.use('ggplot')\n",
        "%matplotlib inline"
      ],
      "execution_count": 190,
      "outputs": []
    },
    {
      "cell_type": "code",
      "metadata": {
        "id": "yiTsnYT7vjqD",
        "outputId": "7b4b1ee6-b636-40ea-fadd-b712997fd3fe",
        "colab": {
          "base_uri": "https://localhost:8080/",
          "height": 204
        }
      },
      "source": [
        "df=pd.read_csv('/content/RELIANCE.csv',parse_dates=['Date'])\n",
        "df.head()"
      ],
      "execution_count": 191,
      "outputs": [
        {
          "output_type": "execute_result",
          "data": {
            "text/html": [
              "<div>\n",
              "<style scoped>\n",
              "    .dataframe tbody tr th:only-of-type {\n",
              "        vertical-align: middle;\n",
              "    }\n",
              "\n",
              "    .dataframe tbody tr th {\n",
              "        vertical-align: top;\n",
              "    }\n",
              "\n",
              "    .dataframe thead th {\n",
              "        text-align: right;\n",
              "    }\n",
              "</style>\n",
              "<table border=\"1\" class=\"dataframe\">\n",
              "  <thead>\n",
              "    <tr style=\"text-align: right;\">\n",
              "      <th></th>\n",
              "      <th>Date</th>\n",
              "      <th>Symbol</th>\n",
              "      <th>Series</th>\n",
              "      <th>Prev Close</th>\n",
              "      <th>Open</th>\n",
              "      <th>High</th>\n",
              "      <th>Low</th>\n",
              "      <th>Last</th>\n",
              "      <th>Close</th>\n",
              "      <th>VWAP</th>\n",
              "      <th>Volume</th>\n",
              "      <th>Turnover</th>\n",
              "      <th>Trades</th>\n",
              "      <th>Deliverable Volume</th>\n",
              "      <th>%Deliverble</th>\n",
              "    </tr>\n",
              "  </thead>\n",
              "  <tbody>\n",
              "    <tr>\n",
              "      <th>0</th>\n",
              "      <td>2000-01-03</td>\n",
              "      <td>RELIANCE</td>\n",
              "      <td>EQ</td>\n",
              "      <td>233.05</td>\n",
              "      <td>237.50</td>\n",
              "      <td>251.70</td>\n",
              "      <td>237.50</td>\n",
              "      <td>251.70</td>\n",
              "      <td>251.70</td>\n",
              "      <td>249.37</td>\n",
              "      <td>4456424</td>\n",
              "      <td>1.111319e+14</td>\n",
              "      <td>NaN</td>\n",
              "      <td>NaN</td>\n",
              "      <td>NaN</td>\n",
              "    </tr>\n",
              "    <tr>\n",
              "      <th>1</th>\n",
              "      <td>2000-01-04</td>\n",
              "      <td>RELIANCE</td>\n",
              "      <td>EQ</td>\n",
              "      <td>251.70</td>\n",
              "      <td>258.40</td>\n",
              "      <td>271.85</td>\n",
              "      <td>251.30</td>\n",
              "      <td>271.85</td>\n",
              "      <td>271.85</td>\n",
              "      <td>263.52</td>\n",
              "      <td>9487878</td>\n",
              "      <td>2.500222e+14</td>\n",
              "      <td>NaN</td>\n",
              "      <td>NaN</td>\n",
              "      <td>NaN</td>\n",
              "    </tr>\n",
              "    <tr>\n",
              "      <th>2</th>\n",
              "      <td>2000-01-05</td>\n",
              "      <td>RELIANCE</td>\n",
              "      <td>EQ</td>\n",
              "      <td>271.85</td>\n",
              "      <td>256.65</td>\n",
              "      <td>287.90</td>\n",
              "      <td>256.65</td>\n",
              "      <td>286.75</td>\n",
              "      <td>282.50</td>\n",
              "      <td>274.79</td>\n",
              "      <td>26833684</td>\n",
              "      <td>7.373697e+14</td>\n",
              "      <td>NaN</td>\n",
              "      <td>NaN</td>\n",
              "      <td>NaN</td>\n",
              "    </tr>\n",
              "    <tr>\n",
              "      <th>3</th>\n",
              "      <td>2000-01-06</td>\n",
              "      <td>RELIANCE</td>\n",
              "      <td>EQ</td>\n",
              "      <td>282.50</td>\n",
              "      <td>289.00</td>\n",
              "      <td>300.70</td>\n",
              "      <td>289.00</td>\n",
              "      <td>293.50</td>\n",
              "      <td>294.35</td>\n",
              "      <td>295.45</td>\n",
              "      <td>15682286</td>\n",
              "      <td>4.633254e+14</td>\n",
              "      <td>NaN</td>\n",
              "      <td>NaN</td>\n",
              "      <td>NaN</td>\n",
              "    </tr>\n",
              "    <tr>\n",
              "      <th>4</th>\n",
              "      <td>2000-01-07</td>\n",
              "      <td>RELIANCE</td>\n",
              "      <td>EQ</td>\n",
              "      <td>294.35</td>\n",
              "      <td>295.00</td>\n",
              "      <td>317.90</td>\n",
              "      <td>293.00</td>\n",
              "      <td>314.50</td>\n",
              "      <td>314.55</td>\n",
              "      <td>308.91</td>\n",
              "      <td>19870977</td>\n",
              "      <td>6.138388e+14</td>\n",
              "      <td>NaN</td>\n",
              "      <td>NaN</td>\n",
              "      <td>NaN</td>\n",
              "    </tr>\n",
              "  </tbody>\n",
              "</table>\n",
              "</div>"
            ],
            "text/plain": [
              "        Date    Symbol Series  ...  Trades  Deliverable Volume  %Deliverble\n",
              "0 2000-01-03  RELIANCE     EQ  ...     NaN                 NaN          NaN\n",
              "1 2000-01-04  RELIANCE     EQ  ...     NaN                 NaN          NaN\n",
              "2 2000-01-05  RELIANCE     EQ  ...     NaN                 NaN          NaN\n",
              "3 2000-01-06  RELIANCE     EQ  ...     NaN                 NaN          NaN\n",
              "4 2000-01-07  RELIANCE     EQ  ...     NaN                 NaN          NaN\n",
              "\n",
              "[5 rows x 15 columns]"
            ]
          },
          "metadata": {
            "tags": []
          },
          "execution_count": 191
        }
      ]
    },
    {
      "cell_type": "code",
      "metadata": {
        "id": "tPK8eYhw4A7G"
      },
      "source": [
        "def train_test_data(data):\n",
        "     '''\n",
        "     Scale and split dataset.\n",
        "     parameters:\n",
        "       data:Time series dataset \n",
        "     returns: \n",
        "       train_df: Training data\n",
        "       valid_df: Validation Data\n",
        "     '''\n",
        "     \n",
        "     scaler=MinMaxScaler()\n",
        "     \n",
        "     data=data.asfreq('D')\n",
        "\n",
        "     data.fillna(method='bfill',inplace=True)\n",
        "\n",
        "     data.fillna(method='ffill',inplace=True)\n",
        "\n",
        "     train_df=pd.DataFrame(index=data.iloc[:-int(len(data)*0.2)].index)\n",
        "\n",
        "     valid_df=pd.DataFrame(index=data.iloc[-int(len(data)*0.2):].index)\n",
        "     \n",
        "     train_df['VWAP']=scaler.fit_transform(np.reshape(data.iloc[:-int(len(data)*0.2)].values,(-1,1))).squeeze(1)\n",
        "     \n",
        "     valid_df['VWAP']=scaler.transform(np.reshape(data.iloc[-int(len(data)*0.2):].values,(-1,1))).squeeze(1)\n",
        "     \n",
        "     return train_df,valid_df"
      ],
      "execution_count": 192,
      "outputs": []
    },
    {
      "cell_type": "code",
      "metadata": {
        "id": "qJc7XlXfv_QX"
      },
      "source": [
        "class RelianceDataset(Dataset):\n",
        "      def __init__(self,data,T=10,step=1):\n",
        "          super().__init__()\n",
        "          self.data=np.reshape(data.values,(data.shape[0],1))\n",
        "          self.T=T\n",
        "          self.chunks=torch.FloatTensor(self.data).unfold(0,self.T,step).permute(0,2,1)\n",
        "          \n",
        "      def __getitem__(self,index:int): \n",
        "          \n",
        "           x=self.chunks[index,:-1,:]\n",
        "           y=self.chunks[index,-1,:]   \n",
        "           return x,y\n",
        "      \n",
        "      def __len__(self):\n",
        "          \n",
        "          return self.chunks.size(0)"
      ],
      "execution_count": 193,
      "outputs": []
    },
    {
      "cell_type": "code",
      "metadata": {
        "id": "WtssQID81UVj",
        "outputId": "39fe1857-8e7a-49f9-c2b1-aca555331045",
        "colab": {
          "base_uri": "https://localhost:8080/"
        }
      },
      "source": [
        "df.set_index('Date',inplace=True)\n",
        "train_df,valid_df=train_test_data(df['VWAP'])\n",
        "train_df.shape,valid_df.shape"
      ],
      "execution_count": 194,
      "outputs": [
        {
          "output_type": "execute_result",
          "data": {
            "text/plain": [
              "((6086, 1), (1521, 1))"
            ]
          },
          "metadata": {
            "tags": []
          },
          "execution_count": 194
        }
      ]
    },
    {
      "cell_type": "code",
      "metadata": {
        "id": "HTjJEW5VXpLH"
      },
      "source": [
        "train_data=RelianceDataset(train_df)\n",
        "valid_data=RelianceDataset(valid_df)\n",
        "train_loader=DataLoader(train_data,batch_size=32)\n",
        "valid_loader=DataLoader(valid_data,batch_size=32)"
      ],
      "execution_count": 195,
      "outputs": []
    },
    {
      "cell_type": "code",
      "metadata": {
        "id": "hJuZ26F4FKvk"
      },
      "source": [
        "device=torch.device('cuda' if torch.cuda.is_available() else 'cpu')"
      ],
      "execution_count": 196,
      "outputs": []
    },
    {
      "cell_type": "code",
      "metadata": {
        "id": "MFuhkUCh-IIl"
      },
      "source": [
        "class LSTMModel(nn.Module):\n",
        "    \n",
        "    def __init__(self,n_stocks,h_dim,n_layers=1,drop_l=0.05,bidirect=False):\n",
        "        \n",
        "        super(LSTMModel,self).__init__() \n",
        "        \n",
        "        if bidirect: \n",
        "          self.n_layers=2*n_layers\n",
        "          n=2\n",
        "        else:\n",
        "          self.n_layers=n_layers  \n",
        "          n=1 \n",
        "        self.h_dim=h_dim\n",
        "\n",
        "        self.lstm=nn.LSTM(n_stocks,h_dim,n_layers,batch_first=True,dropout=drop_l,bidirectional=bidirect)\n",
        "\n",
        "        self.fc=nn.Linear(n*h_dim,n_stocks)\n",
        "\n",
        "    def forward(self,Input):     \n",
        "    \n",
        "        h0,c0=torch.zeros((self.n_layers,Input.size(0),self.h_dim)).to(device),torch.zeros((self.n_layers,Input.size(0),self.h_dim)).to(device)\n",
        "\n",
        "        output,(h0,c0)=self.lstm(Input,(h0,c0))\n",
        "\n",
        "        out=self.fc(output[:,-1,:])\n",
        "        \n",
        "        return out "
      ],
      "execution_count": 243,
      "outputs": []
    },
    {
      "cell_type": "code",
      "metadata": {
        "id": "fFGQWuSaJpdi"
      },
      "source": [
        "n_stocks=1\n",
        "h_dim=32\n",
        "n_layers=1\n",
        "drop_l=0.0\n",
        "bidirect=False\n",
        "model=LSTMModel(n_stocks,h_dim,n_layers,drop_l,bidirect)\n",
        "model=model.to(device)\n",
        "criterion=nn.MSELoss()\n",
        "optimizer=optim.Adam(model.parameters(),lr=0.001)"
      ],
      "execution_count": 277,
      "outputs": []
    },
    {
      "cell_type": "code",
      "metadata": {
        "id": "ScHVyKuKatXu"
      },
      "source": [
        "def valid_model():\n",
        "  \n",
        "     with torch.no_grad():\n",
        "        val_loss=0.0\n",
        "        val_mae=0.0\n",
        "        pred_list=[]\n",
        "        target_list=[]\n",
        "        model.eval() \n",
        "        for x,y in valid_loader:\n",
        "             \n",
        "             x=x.to(device)\n",
        "             y=y.to(device)\n",
        "             \n",
        "             pred=model(x)\n",
        "\n",
        "             loss=criterion(pred,y)\n",
        "\n",
        "             val_loss+=loss.item()*x.size(0)\n",
        "             \n",
        "             target_list.append(y.detach().cpu().numpy())\n",
        "\n",
        "             pred_list.append(pred.detach().cpu().numpy()) \n",
        "\n",
        "        val_loss/=len(valid_data)\n",
        "         \n",
        "        predictions=np.concatenate(pred_list,axis=0)\n",
        "\n",
        "        target=np.concatenate(target_list,axis=0) \n",
        "        \n",
        "        val_mae=mean_absolute_error(target,predictions)\n",
        "\n",
        "        return val_loss,val_mae"
      ],
      "execution_count": 278,
      "outputs": []
    },
    {
      "cell_type": "code",
      "metadata": {
        "id": "LgkTZ2yEXGSQ"
      },
      "source": [
        "def train_model(num_epochs):\n",
        "     train_loss_list=[]\n",
        "     val_loss_list=[]\n",
        "     for i in range(num_epochs):\n",
        "        epoch_loss=0.0\n",
        "        train_mae=0.0\n",
        "        pred_list=[]\n",
        "        target_list=[]\n",
        "        model.train()\n",
        "        for x,y in train_loader:\n",
        "             \n",
        "             x=x.to(device)\n",
        "             y=y.to(device)\n",
        "             \n",
        "             optimizer.zero_grad()\n",
        "\n",
        "             pred=model(x)\n",
        "\n",
        "             loss=criterion(pred,y)\n",
        "\n",
        "             loss.backward()\n",
        "\n",
        "             optimizer.step()\n",
        "\n",
        "             epoch_loss+=loss.item()*x.size(0)\n",
        "\n",
        "             target_list.append(y.detach().cpu().numpy())\n",
        "\n",
        "             pred_list.append(pred.detach().cpu().numpy())\n",
        "             \n",
        "        epoch_loss/=len(train_data)    \n",
        "\n",
        "        predictions=np.concatenate(pred_list,axis=0)\n",
        "\n",
        "        target=np.concatenate(target_list,axis=0) \n",
        "        \n",
        "        train_mae=mean_absolute_error(target,predictions)\n",
        "\n",
        "        val_loss,val_mae=valid_model()\n",
        "        \n",
        "        train_loss_list.append(epoch_loss)\n",
        "\n",
        "        val_loss_list.append(val_loss) \n",
        "\n",
        "        print(f'Epoch:{i+1} \\n Train loss:{epoch_loss:.3} , Train mae:{train_mae:.3} ,Val loss:{val_loss:.3} , Val mae:{val_mae:.3}')         \n",
        "     \n",
        "     print()\n",
        "     ax=plt.figure(figsize=(15,5))\n",
        "     plt.plot(range(len(train_loss_list)),train_loss_list,label='Training loss')\n",
        "     plt.plot(range(len(train_loss_list)),val_loss_list,label='Validation loss')\n",
        "     plt.title('Training and Validation Loss')\n",
        "     plt.xlabel('Epoch')\n",
        "     plt.ylabel('Loss')\n",
        "     plt.legend()\n",
        "     plt.show()"
      ],
      "execution_count": 279,
      "outputs": []
    },
    {
      "cell_type": "code",
      "metadata": {
        "id": "X0QpRLqQaX0Z",
        "outputId": "d22a25ac-7451-4761-ad82-0b83f7e223d0",
        "colab": {
          "base_uri": "https://localhost:8080/",
          "height": 711
        }
      },
      "source": [
        "num_epochs=10\n",
        "if __name__=='__main__':\n",
        "    train_model(num_epochs)"
      ],
      "execution_count": 280,
      "outputs": [
        {
          "output_type": "stream",
          "text": [
            "Epoch:1 \n",
            " Train loss:0.0062 , Train mae:0.0542 ,Val loss:0.0214 , Val mae:0.109\n",
            "Epoch:2 \n",
            " Train loss:0.0203 , Train mae:0.101 ,Val loss:0.0214 , Val mae:0.112\n",
            "Epoch:3 \n",
            " Train loss:0.0211 , Train mae:0.104 ,Val loss:0.0187 , Val mae:0.105\n",
            "Epoch:4 \n",
            " Train loss:0.0168 , Train mae:0.0931 ,Val loss:0.0154 , Val mae:0.0947\n",
            "Epoch:5 \n",
            " Train loss:0.0127 , Train mae:0.0816 ,Val loss:0.0125 , Val mae:0.0851\n",
            "Epoch:6 \n",
            " Train loss:0.00966 , Train mae:0.0711 ,Val loss:0.00951 , Val mae:0.0739\n",
            "Epoch:7 \n",
            " Train loss:0.0068 , Train mae:0.0591 ,Val loss:0.00669 , Val mae:0.0614\n",
            "Epoch:8 \n",
            " Train loss:0.00441 , Train mae:0.047 ,Val loss:0.00452 , Val mae:0.05\n",
            "Epoch:9 \n",
            " Train loss:0.00276 , Train mae:0.0368 ,Val loss:0.00299 , Val mae:0.0405\n",
            "Epoch:10 \n",
            " Train loss:0.00171 , Train mae:0.0289 ,Val loss:0.00196 , Val mae:0.0328\n",
            "\n"
          ],
          "name": "stdout"
        },
        {
          "output_type": "display_data",
          "data": {
            "image/png": "[encoded data removed]",
            "text/plain": [
              "<Figure size 1080x360 with 1 Axes>"
            ]
          },
          "metadata": {
            "tags": [],
            "needs_background": "light"
          }
        }
      ]
    },
    {
      "cell_type": "code",
      "metadata": {
        "id": "x4v0NycMaYJz"
      },
      "source": [
        ""
      ],
      "execution_count": null,
      "outputs": []
    }
  ]
}