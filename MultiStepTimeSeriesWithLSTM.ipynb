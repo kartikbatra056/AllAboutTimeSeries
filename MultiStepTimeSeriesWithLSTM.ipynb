{
  "nbformat": 4,
  "nbformat_minor": 0,
  "metadata": {
    "colab": {
      "name": "MultiStepTimeSeries.ipynb",
      "provenance": [],
      "authorship_tag": "ABX9TyOsIyesYHa4DGlD3NRmEJX9",
      "include_colab_link": true
    },
    "kernelspec": {
      "name": "python3",
      "display_name": "Python 3"
    }
  },
  "cells": [
    {
      "cell_type": "markdown",
      "metadata": {
        "id": "view-in-github",
        "colab_type": "text"
      },
      "source": [
        "<a href=\"https://colab.research.google.com/github/kartikbatra056/AllAboutTimeSeries/blob/main/MultiStepTimeSeriesWithLSTM.ipynb\" target=\"_parent\"><img src=\"https://colab.research.google.com/assets/colab-badge.svg\" alt=\"Open In Colab\"/></a>"
      ]
    },
    {
      "cell_type": "code",
      "metadata": {
        "id": "MM9-CoC_kzMD",
        "outputId": "26c2a226-888f-4e89-f1ac-9258a0855959",
        "colab": {
          "base_uri": "https://localhost:8080/"
        }
      },
      "source": [
        "! pip install kaggle"
      ],
      "execution_count": 1,
      "outputs": [
        {
          "output_type": "stream",
          "text": [
            "Requirement already satisfied: kaggle in /usr/local/lib/python3.6/dist-packages (1.5.9)\n",
            "Requirement already satisfied: python-dateutil in /usr/local/lib/python3.6/dist-packages (from kaggle) (2.8.1)\n",
            "Requirement already satisfied: certifi in /usr/local/lib/python3.6/dist-packages (from kaggle) (2020.6.20)\n",
            "Requirement already satisfied: slugify in /usr/local/lib/python3.6/dist-packages (from kaggle) (0.0.1)\n",
            "Requirement already satisfied: six>=1.10 in /usr/local/lib/python3.6/dist-packages (from kaggle) (1.15.0)\n",
            "Requirement already satisfied: python-slugify in /usr/local/lib/python3.6/dist-packages (from kaggle) (4.0.1)\n",
            "Requirement already satisfied: urllib3 in /usr/local/lib/python3.6/dist-packages (from kaggle) (1.24.3)\n",
            "Requirement already satisfied: tqdm in /usr/local/lib/python3.6/dist-packages (from kaggle) (4.41.1)\n",
            "Requirement already satisfied: requests in /usr/local/lib/python3.6/dist-packages (from kaggle) (2.23.0)\n",
            "Requirement already satisfied: text-unidecode>=1.3 in /usr/local/lib/python3.6/dist-packages (from python-slugify->kaggle) (1.3)\n",
            "Requirement already satisfied: idna<3,>=2.5 in /usr/local/lib/python3.6/dist-packages (from requests->kaggle) (2.10)\n",
            "Requirement already satisfied: chardet<4,>=3.0.2 in /usr/local/lib/python3.6/dist-packages (from requests->kaggle) (3.0.4)\n"
          ],
          "name": "stdout"
        }
      ]
    },
    {
      "cell_type": "code",
      "metadata": {
        "id": "SWH41Ggek5Ft",
        "outputId": "6776cc10-3138-4344-f7f5-3010e02d797e",
        "colab": {
          "resources": {
            "http://localhost:8080/nbextensions/google.colab/files.js": {
              "data": "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",
              "ok": true,
              "headers": [
                [
                  "content-type",
                  "application/javascript"
                ]
              ],
              "status": 200,
              "status_text": ""
            }
          },
          "base_uri": "https://localhost:8080/",
          "height": 73
        }
      },
      "source": [
        "from google.colab import files\n",
        "uploaded=files.upload()"
      ],
      "execution_count": 2,
      "outputs": [
        {
          "output_type": "display_data",
          "data": {
            "text/html": [
              "\n",
              "     <input type=\"file\" id=\"files-77fea472-038b-434c-8114-f92d1bfb670b\" name=\"files[]\" multiple disabled\n",
              "        style=\"border:none\" />\n",
              "     <output id=\"result-77fea472-038b-434c-8114-f92d1bfb670b\">\n",
              "      Upload widget is only available when the cell has been executed in the\n",
              "      current browser session. Please rerun this cell to enable.\n",
              "      </output>\n",
              "      <script src=\"/nbextensions/google.colab/files.js\"></script> "
            ],
            "text/plain": [
              "<IPython.core.display.HTML object>"
            ]
          },
          "metadata": {
            "tags": []
          }
        },
        {
          "output_type": "stream",
          "text": [
            "Saving kaggle.json to kaggle.json\n"
          ],
          "name": "stdout"
        }
      ]
    },
    {
      "cell_type": "code",
      "metadata": {
        "id": "ACRhgvzFk_mp"
      },
      "source": [
        "! mkdir ~/.kaggle\n",
        "! cp kaggle.json ~/.kaggle/\n",
        "! chmod 600 ~/.kaggle/kaggle.json"
      ],
      "execution_count": 3,
      "outputs": []
    },
    {
      "cell_type": "code",
      "metadata": {
        "id": "uN3GC90IlZyu",
        "outputId": "2c46d515-aa6a-4dc1-8992-316f683ecf83",
        "colab": {
          "base_uri": "https://localhost:8080/"
        }
      },
      "source": [
        "! kaggle datasets download -d 'rohanrao/nifty50-stock-market-data'"
      ],
      "execution_count": 4,
      "outputs": [
        {
          "output_type": "stream",
          "text": [
            "Downloading nifty50-stock-market-data.zip to /content\n",
            " 50% 9.00M/18.0M [00:00<00:00, 31.5MB/s]\n",
            "100% 18.0M/18.0M [00:00<00:00, 51.9MB/s]\n"
          ],
          "name": "stdout"
        }
      ]
    },
    {
      "cell_type": "code",
      "metadata": {
        "id": "deqDJULwlgWG",
        "outputId": "69db259e-9200-4df8-fedf-be1f3a8f4341",
        "colab": {
          "base_uri": "https://localhost:8080/"
        }
      },
      "source": [
        "! unzip '/content/nifty50-stock-market-data.zip'"
      ],
      "execution_count": 5,
      "outputs": [
        {
          "output_type": "stream",
          "text": [
            "Archive:  /content/nifty50-stock-market-data.zip\n",
            "  inflating: ADANIPORTS.csv          \n",
            "  inflating: ASIANPAINT.csv          \n",
            "  inflating: AXISBANK.csv            \n",
            "  inflating: BAJAJ-AUTO.csv          \n",
            "  inflating: BAJAJFINSV.csv          \n",
            "  inflating: BAJFINANCE.csv          \n",
            "  inflating: BHARTIARTL.csv          \n",
            "  inflating: BPCL.csv                \n",
            "  inflating: BRITANNIA.csv           \n",
            "  inflating: CIPLA.csv               \n",
            "  inflating: COALINDIA.csv           \n",
            "  inflating: DRREDDY.csv             \n",
            "  inflating: EICHERMOT.csv           \n",
            "  inflating: GAIL.csv                \n",
            "  inflating: GRASIM.csv              \n",
            "  inflating: HCLTECH.csv             \n",
            "  inflating: HDFC.csv                \n",
            "  inflating: HDFCBANK.csv            \n",
            "  inflating: HEROMOTOCO.csv          \n",
            "  inflating: HINDALCO.csv            \n",
            "  inflating: HINDUNILVR.csv          \n",
            "  inflating: ICICIBANK.csv           \n",
            "  inflating: INDUSINDBK.csv          \n",
            "  inflating: INFRATEL.csv            \n",
            "  inflating: INFY.csv                \n",
            "  inflating: IOC.csv                 \n",
            "  inflating: ITC.csv                 \n",
            "  inflating: JSWSTEEL.csv            \n",
            "  inflating: KOTAKBANK.csv           \n",
            "  inflating: LT.csv                  \n",
            "  inflating: MARUTI.csv              \n",
            "  inflating: MM.csv                  \n",
            "  inflating: NESTLEIND.csv           \n",
            "  inflating: NIFTY50_all.csv         \n",
            "  inflating: NTPC.csv                \n",
            "  inflating: ONGC.csv                \n",
            "  inflating: POWERGRID.csv           \n",
            "  inflating: RELIANCE.csv            \n",
            "  inflating: SBIN.csv                \n",
            "  inflating: SHREECEM.csv            \n",
            "  inflating: SUNPHARMA.csv           \n",
            "  inflating: TATAMOTORS.csv          \n",
            "  inflating: TATASTEEL.csv           \n",
            "  inflating: TCS.csv                 \n",
            "  inflating: TECHM.csv               \n",
            "  inflating: TITAN.csv               \n",
            "  inflating: ULTRACEMCO.csv          \n",
            "  inflating: UPL.csv                 \n",
            "  inflating: VEDL.csv                \n",
            "  inflating: WIPRO.csv               \n",
            "  inflating: ZEEL.csv                \n",
            "  inflating: stock_metadata.csv      \n"
          ],
          "name": "stdout"
        }
      ]
    },
    {
      "cell_type": "code",
      "metadata": {
        "id": "dyOA5i_elnRv"
      },
      "source": [
        "import pandas as pd\n",
        "import numpy as np\n",
        "import matplotlib.pyplot as plt\n",
        "import seaborn as sns\n",
        "import torch\n",
        "import torch.nn as nn\n",
        "from torch.utils.data import Dataset,DataLoader\n",
        "import torch.optim as optim\n",
        "from sklearn.preprocessing import MinMaxScaler\n",
        "%matplotlib inline\n",
        "plt.style.use('ggplot')"
      ],
      "execution_count": 100,
      "outputs": []
    },
    {
      "cell_type": "code",
      "metadata": {
        "id": "RSVgOX9BmN92",
        "outputId": "8ba3e0a7-7472-4f25-887c-19aefac25c88",
        "colab": {
          "base_uri": "https://localhost:8080/",
          "height": 197
        }
      },
      "source": [
        "df=pd.read_csv('/content/RELIANCE.csv',parse_dates=['Date'])\n",
        "df.head()"
      ],
      "execution_count": 101,
      "outputs": [
        {
          "output_type": "execute_result",
          "data": {
            "text/html": [
              "<div>\n",
              "<style scoped>\n",
              "    .dataframe tbody tr th:only-of-type {\n",
              "        vertical-align: middle;\n",
              "    }\n",
              "\n",
              "    .dataframe tbody tr th {\n",
              "        vertical-align: top;\n",
              "    }\n",
              "\n",
              "    .dataframe thead th {\n",
              "        text-align: right;\n",
              "    }\n",
              "</style>\n",
              "<table border=\"1\" class=\"dataframe\">\n",
              "  <thead>\n",
              "    <tr style=\"text-align: right;\">\n",
              "      <th></th>\n",
              "      <th>Date</th>\n",
              "      <th>Symbol</th>\n",
              "      <th>Series</th>\n",
              "      <th>Prev Close</th>\n",
              "      <th>Open</th>\n",
              "      <th>High</th>\n",
              "      <th>Low</th>\n",
              "      <th>Last</th>\n",
              "      <th>Close</th>\n",
              "      <th>VWAP</th>\n",
              "      <th>Volume</th>\n",
              "      <th>Turnover</th>\n",
              "      <th>Trades</th>\n",
              "      <th>Deliverable Volume</th>\n",
              "      <th>%Deliverble</th>\n",
              "    </tr>\n",
              "  </thead>\n",
              "  <tbody>\n",
              "    <tr>\n",
              "      <th>0</th>\n",
              "      <td>2000-01-03</td>\n",
              "      <td>RELIANCE</td>\n",
              "      <td>EQ</td>\n",
              "      <td>233.05</td>\n",
              "      <td>237.50</td>\n",
              "      <td>251.70</td>\n",
              "      <td>237.50</td>\n",
              "      <td>251.70</td>\n",
              "      <td>251.70</td>\n",
              "      <td>249.37</td>\n",
              "      <td>4456424</td>\n",
              "      <td>1.111319e+14</td>\n",
              "      <td>NaN</td>\n",
              "      <td>NaN</td>\n",
              "      <td>NaN</td>\n",
              "    </tr>\n",
              "    <tr>\n",
              "      <th>1</th>\n",
              "      <td>2000-01-04</td>\n",
              "      <td>RELIANCE</td>\n",
              "      <td>EQ</td>\n",
              "      <td>251.70</td>\n",
              "      <td>258.40</td>\n",
              "      <td>271.85</td>\n",
              "      <td>251.30</td>\n",
              "      <td>271.85</td>\n",
              "      <td>271.85</td>\n",
              "      <td>263.52</td>\n",
              "      <td>9487878</td>\n",
              "      <td>2.500222e+14</td>\n",
              "      <td>NaN</td>\n",
              "      <td>NaN</td>\n",
              "      <td>NaN</td>\n",
              "    </tr>\n",
              "    <tr>\n",
              "      <th>2</th>\n",
              "      <td>2000-01-05</td>\n",
              "      <td>RELIANCE</td>\n",
              "      <td>EQ</td>\n",
              "      <td>271.85</td>\n",
              "      <td>256.65</td>\n",
              "      <td>287.90</td>\n",
              "      <td>256.65</td>\n",
              "      <td>286.75</td>\n",
              "      <td>282.50</td>\n",
              "      <td>274.79</td>\n",
              "      <td>26833684</td>\n",
              "      <td>7.373697e+14</td>\n",
              "      <td>NaN</td>\n",
              "      <td>NaN</td>\n",
              "      <td>NaN</td>\n",
              "    </tr>\n",
              "    <tr>\n",
              "      <th>3</th>\n",
              "      <td>2000-01-06</td>\n",
              "      <td>RELIANCE</td>\n",
              "      <td>EQ</td>\n",
              "      <td>282.50</td>\n",
              "      <td>289.00</td>\n",
              "      <td>300.70</td>\n",
              "      <td>289.00</td>\n",
              "      <td>293.50</td>\n",
              "      <td>294.35</td>\n",
              "      <td>295.45</td>\n",
              "      <td>15682286</td>\n",
              "      <td>4.633254e+14</td>\n",
              "      <td>NaN</td>\n",
              "      <td>NaN</td>\n",
              "      <td>NaN</td>\n",
              "    </tr>\n",
              "    <tr>\n",
              "      <th>4</th>\n",
              "      <td>2000-01-07</td>\n",
              "      <td>RELIANCE</td>\n",
              "      <td>EQ</td>\n",
              "      <td>294.35</td>\n",
              "      <td>295.00</td>\n",
              "      <td>317.90</td>\n",
              "      <td>293.00</td>\n",
              "      <td>314.50</td>\n",
              "      <td>314.55</td>\n",
              "      <td>308.91</td>\n",
              "      <td>19870977</td>\n",
              "      <td>6.138388e+14</td>\n",
              "      <td>NaN</td>\n",
              "      <td>NaN</td>\n",
              "      <td>NaN</td>\n",
              "    </tr>\n",
              "  </tbody>\n",
              "</table>\n",
              "</div>"
            ],
            "text/plain": [
              "        Date    Symbol Series  ...  Trades  Deliverable Volume  %Deliverble\n",
              "0 2000-01-03  RELIANCE     EQ  ...     NaN                 NaN          NaN\n",
              "1 2000-01-04  RELIANCE     EQ  ...     NaN                 NaN          NaN\n",
              "2 2000-01-05  RELIANCE     EQ  ...     NaN                 NaN          NaN\n",
              "3 2000-01-06  RELIANCE     EQ  ...     NaN                 NaN          NaN\n",
              "4 2000-01-07  RELIANCE     EQ  ...     NaN                 NaN          NaN\n",
              "\n",
              "[5 rows x 15 columns]"
            ]
          },
          "metadata": {
            "tags": []
          },
          "execution_count": 101
        }
      ]
    },
    {
      "cell_type": "code",
      "metadata": {
        "id": "uqznDofvI6x3"
      },
      "source": [
        "scaler=MinMaxScaler()\n",
        "def PreprocessTimeSeries(data,split_ratio=0.2):\n",
        "\n",
        "      split_size=int(split_ratio*data.shape[0])\n",
        "      \n",
        "      train=pd.DataFrame(index=data.iloc[:-split_size].index)\n",
        "      valid=pd.DataFrame(index=data.iloc[-split_size:].index)\n",
        "      \n",
        "      train['VWAP']=scaler.fit_transform(data.iloc[:-split_size].values.reshape((train.shape[0],1)))\n",
        "      valid['VWAP']=scaler.transform(data.iloc[-split_size:].values.reshape((valid.shape[0],1)))\n",
        "\n",
        "      return train,valid"
      ],
      "execution_count": 102,
      "outputs": []
    },
    {
      "cell_type": "code",
      "metadata": {
        "id": "vJyXIkQTmU77"
      },
      "source": [
        "class MultistepDataset(Dataset):\n",
        "      def __init__(self,data,T=10,n_out=5,step=1):\n",
        "              \n",
        "              super().__init__()\n",
        "\n",
        "              self.data=data.values.reshape((data.shape[0],1))\n",
        "              self.chunk_set=torch.FloatTensor(self.data).unfold(0,T+n_out,step).permute(0,2,1)\n",
        "              \n",
        "              self.chunks=(self.chunk_set[:,:T,:],self.chunk_set[:,T:T+n_out,:])\n",
        "      \n",
        "      def __getitem__(self,index:int):\n",
        "              \n",
        "              x=self.chunks[0][index]\n",
        "              y=self.chunks[1][index]\n",
        "\n",
        "              return x,y\n",
        "\n",
        "      def __len__(self):\n",
        "\n",
        "            return len(self.chunk_set)        "
      ],
      "execution_count": 103,
      "outputs": []
    },
    {
      "cell_type": "code",
      "metadata": {
        "id": "1YEuhIC0G3J4",
        "outputId": "ce69a7a2-c7ff-46ff-8605-ecc9b216b641",
        "colab": {
          "base_uri": "https://localhost:8080/"
        }
      },
      "source": [
        "train,valid=PreprocessTimeSeries(df['VWAP'])\n",
        "train.shape,valid.shape"
      ],
      "execution_count": 104,
      "outputs": [
        {
          "output_type": "execute_result",
          "data": {
            "text/plain": [
              "((4148, 1), (1036, 1))"
            ]
          },
          "metadata": {
            "tags": []
          },
          "execution_count": 104
        }
      ]
    },
    {
      "cell_type": "code",
      "metadata": {
        "id": "YfS7IQsFMHQQ"
      },
      "source": [
        "train_data=MultistepDataset(train)\n",
        "valid_data=MultistepDataset(valid)"
      ],
      "execution_count": 105,
      "outputs": []
    },
    {
      "cell_type": "code",
      "metadata": {
        "id": "RQfx_KSfeXry"
      },
      "source": [
        "train_loader=DataLoader(train_data,batch_size=64)\n",
        "valid_loader=DataLoader(valid_data,batch_size=64)"
      ],
      "execution_count": 106,
      "outputs": []
    },
    {
      "cell_type": "code",
      "metadata": {
        "id": "HKiSLK4QnPou"
      },
      "source": [
        "device=torch.device('cuda' if torch.cuda.is_available() else 'cpu')"
      ],
      "execution_count": 107,
      "outputs": []
    },
    {
      "cell_type": "code",
      "metadata": {
        "id": "adxccbUqeZgr"
      },
      "source": [
        "class EncoderModel(nn.Module):\n",
        "      \n",
        "      def __init__(self,n_stocks,hidden_dim,n_layers=1,drop_l=0.0):\n",
        "           \n",
        "           super(EncoderModel,self).__init__()\n",
        "           self.n_layers=n_layers\n",
        "           self.hidden_dim=hidden_dim\n",
        "           self.encoder=nn.LSTM(n_stocks,hidden_size=hidden_dim,num_layers=n_layers,dropout=drop_l,batch_first=True)\n",
        "           self.hidden=None\n",
        "\n",
        "      def forward(self,Input):\n",
        "      \n",
        "           self.hidden=self.init_weights(Input.shape[0]) \n",
        "           _,self.hidden=self.encoder(Input,self.hidden)\n",
        "\n",
        "           return self.hidden     \n",
        "\n",
        "      def init_weights(self,batch_size):    \n",
        "\n",
        "              return (torch.zeros((self.n_layers,batch_size,self.hidden_dim)).to(device),\n",
        "                      torch.zeros((self.n_layers,batch_size,self.hidden_dim)).to(device))"
      ],
      "execution_count": 108,
      "outputs": []
    },
    {
      "cell_type": "code",
      "metadata": {
        "id": "npzdvPAwjkiI"
      },
      "source": [
        "class DecoderModel(nn.Module):\n",
        "      \n",
        "       def __init__(self,n_stocks,hidden_dim,n_layers=1,drop_l=0.0):\n",
        "              \n",
        "              super(DecoderModel,self).__init__()\n",
        "              self.n_layers=n_layers\n",
        "              self.hidden_dim=hidden_dim\n",
        "              self.decoder=nn.LSTM(n_stocks,hidden_size=hidden_dim,num_layers=n_layers,dropout=drop_l,batch_first=True)\n",
        "              self.fc=nn.Linear(hidden_dim,n_stocks)\n",
        "\n",
        "       def forward(self,Input,hidden):\n",
        "\n",
        "              output,hidden=self.decoder(Input,hidden) \n",
        "              output=self.fc(output)\n",
        "\n",
        "              return output,hidden"
      ],
      "execution_count": 109,
      "outputs": []
    },
    {
      "cell_type": "code",
      "metadata": {
        "id": "HiAf-FjPmGFK"
      },
      "source": [
        "n_stocks=1\n",
        "hidden_dim=64\n",
        "n_layers=1\n",
        "drop_l=0.0\n",
        "encoder=EncoderModel(n_stocks,hidden_dim,n_layers,drop_l)\n",
        "decoder=DecoderModel(n_stocks,hidden_dim,n_layers,drop_l)\n",
        "encoder=encoder.to(device)\n",
        "decoder=decoder.to(device)\n",
        "criterion=nn.MSELoss()\n",
        "en_optim=optim.SGD(encoder.parameters(),lr=0.3)\n",
        "de_optim=optim.SGD(decoder.parameters(),lr=0.003)\n",
        "en_scheduler=optim.lr_scheduler.ReduceLROnPlateau(en_optim,mode='min')"
      ],
      "execution_count": 138,
      "outputs": []
    },
    {
      "cell_type": "code",
      "metadata": {
        "id": "Y3frO_I1vIBh"
      },
      "source": [
        "def valid_model():\n",
        "     encoder.eval()\n",
        "     decoder.eval()\n",
        "     with torch.no_grad():\n",
        "         val_loss=0.0\n",
        "         epoch_loss=0.0\n",
        "         for x,y in valid_loader:\n",
        "              \n",
        "              x=x.to(device)\n",
        "              y=y.to(device)\n",
        "              \n",
        "              hidden=encoder(x)\n",
        "              output=x[:,-1,:].unsqueeze(1)\n",
        "\n",
        "              loss=0.0\n",
        "\n",
        "              for j in range(y.size(1)):\n",
        "                  output,hidden = decoder(output,hidden)\n",
        "                  loss+=criterion(y[:,j,:],output.view(-1,1))\n",
        "              \n",
        "              epoch_loss+=(loss.item()/y.size(1))*y.size(0)\n",
        "\n",
        "         val_loss=epoch_loss/len(valid_data)\n",
        "\n",
        "         return val_loss"
      ],
      "execution_count": 139,
      "outputs": []
    },
    {
      "cell_type": "code",
      "metadata": {
        "id": "M-k0Wx3nnZJn"
      },
      "source": [
        "def train_model(num_epochs):\n",
        "     \n",
        "     for i in range(num_epochs):\n",
        "         encoder.train()\n",
        "         decoder.train()\n",
        "         train_loss=0.0\n",
        "         epoch_loss=0.0\n",
        "         val_loss=0.0\n",
        "         for x,y in train_loader:\n",
        "              \n",
        "              x=x.to(device)\n",
        "              y=y.to(device)\n",
        "              \n",
        "              en_optim.zero_grad()\n",
        "              de_optim.zero_grad()\n",
        "\n",
        "              hidden=encoder(x)\n",
        "              output=x[:,-1,:].unsqueeze(1)\n",
        "\n",
        "              loss=0.0\n",
        "\n",
        "              for j in range(y.size(1)):\n",
        "                  output,hidden = decoder(output,hidden)\n",
        "                  loss+=criterion(y[:,j,:],output.view(-1,1))\n",
        "              \n",
        "              loss.backward()\n",
        "\n",
        "              en_optim.step()\n",
        "              de_optim.step()\n",
        "\n",
        "              epoch_loss+=(loss.item()/y.size(1))*y.size(0)\n",
        "\n",
        "         train_loss=epoch_loss/len(train_data)\n",
        "\n",
        "         val_loss=valid_model()   \n",
        "         \n",
        "         en_scheduler.step(val_loss)\n",
        "\n",
        "         print(f'Epoch No is {i+1}: \\n \\tTrain Loss: {train_loss} \\n \\tValid Loss: {val_loss}')"
      ],
      "execution_count": 140,
      "outputs": []
    },
    {
      "cell_type": "code",
      "metadata": {
        "id": "1z1VNMnto7fG",
        "outputId": "9a883ece-4c36-4966-e9d8-5114722f01a4",
        "colab": {
          "base_uri": "https://localhost:8080/"
        }
      },
      "source": [
        "num_epochs=10\n",
        "if __name__=='__main__':\n",
        "    train_model(num_epochs)"
      ],
      "execution_count": 141,
      "outputs": [
        {
          "output_type": "stream",
          "text": [
            "Epoch No is 1: \n",
            " \tTrain Loss: 0.033166072458338795 \n",
            " \tValid Loss: 0.02840493326084488\n",
            "Epoch No is 2: \n",
            " \tTrain Loss: 0.02682607865738707 \n",
            " \tValid Loss: 0.023063032813151522\n",
            "Epoch No is 3: \n",
            " \tTrain Loss: 0.024130409843201396 \n",
            " \tValid Loss: 0.02063766330072325\n",
            "Epoch No is 4: \n",
            " \tTrain Loss: 0.0215585884686116 \n",
            " \tValid Loss: 0.01868067568864258\n",
            "Epoch No is 5: \n",
            " \tTrain Loss: 0.018564455934953844 \n",
            " \tValid Loss: 0.016366770230743986\n",
            "Epoch No is 6: \n",
            " \tTrain Loss: 0.015372419658965866 \n",
            " \tValid Loss: 0.013591536404218693\n",
            "Epoch No is 7: \n",
            " \tTrain Loss: 0.012532127556924082 \n",
            " \tValid Loss: 0.010818601941321695\n",
            "Epoch No is 8: \n",
            " \tTrain Loss: 0.010338382276123584 \n",
            " \tValid Loss: 0.008394956968564342\n",
            "Epoch No is 9: \n",
            " \tTrain Loss: 0.00869130699191987 \n",
            " \tValid Loss: 0.006406002431203941\n",
            "Epoch No is 10: \n",
            " \tTrain Loss: 0.007393612819113262 \n",
            " \tValid Loss: 0.004887290153863845\n"
          ],
          "name": "stdout"
        }
      ]
    },
    {
      "cell_type": "code",
      "metadata": {
        "id": "SNNAXdk5pBGz"
      },
      "source": [
        ""
      ],
      "execution_count": 44,
      "outputs": []
    }
  ]
}